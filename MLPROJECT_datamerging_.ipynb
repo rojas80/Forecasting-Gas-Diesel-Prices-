{
 "cells": [
  {
   "cell_type": "code",
   "execution_count": 1,
   "id": "99d85f5f",
   "metadata": {},
   "outputs": [],
   "source": [
    "import pandas as pd\n",
    "\n",
    "#diesel sheets needed Data 1\n",
    "#gas sheet needed: Data 1, Data 4, Data 7\n",
    "dieselDatadf = pd.read_excel(\"/Desktop/ML-Project/dieselData.xls\", sheet_name = \"Data 1\", usecols = \"A,B\")\n",
    "gas_Sheet1 = pd.read_excel(\"/Desktop/ML-Project/gasData.xls\", sheet_name = \"Data 1\", usecols = \"A,B\")\n",
    "gas_Sheet2 = pd.read_excel(\"/Desktop/ML-Project/gasData.xls\", sheet_name = \"Data 4\", usecols = \"A,B\")\n",
    "gas_Sheet3 = pd.read_excel(\"/Desktop/ML-Project/gasData.xls\", sheet_name = \"Data 7\", usecols = \"A,B\")\n",
    "\n",
    "#sheets merging\n",
    "mergeData  = pd.merge(gas_Sheet1, gas_Sheet2, on= \"Back to Contents\")\n",
    "mergeData  = pd.merge(mergeData, gas_Sheet3, on= \"Back to Contents\")\n",
    "mergeData  = pd.merge(mergeData, dieselDatadf, on= \"Back to Contents\")\n",
    "mergeData.to_csv('prices.csv')\n"
   ]
  },
  {
   "cell_type": "code",
   "execution_count": null,
   "id": "537f8bba",
   "metadata": {},
   "outputs": [],
   "source": []
  }
 ],
 "metadata": {
  "kernelspec": {
   "display_name": "Python 3 (ipykernel)",
   "language": "python",
   "name": "python3"
  },
  "language_info": {
   "codemirror_mode": {
    "name": "ipython",
    "version": 3
   },
   "file_extension": ".py",
   "mimetype": "text/x-python",
   "name": "python",
   "nbconvert_exporter": "python",
   "pygments_lexer": "ipython3",
   "version": "3.9.13"
  }
 },
 "nbformat": 4,
 "nbformat_minor": 5
}
